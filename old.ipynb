{
 "cells": [
  {
   "cell_type": "markdown",
   "id": "570f62d8",
   "metadata": {},
   "source": [
    "# Hello!\n",
    "### This project takes YouTube videos and displays the clusters of comments. This is done by taking the video's comments and running them through a k-means clustering algorithm. The clusters are then displayed in a graph, with each cluster being a different color."
   ]
  },
  {
   "cell_type": "code",
   "execution_count": 1,
   "id": "5d334b96",
   "metadata": {},
   "outputs": [],
   "source": [
    "import pandas as pd\n",
    "import time\n",
    "from selenium.webdriver import Chrome\n",
    "from selenium.webdriver.common.by import By\n",
    "from selenium.webdriver.common.keys import Keys\n",
    "from selenium.webdriver.support.ui import WebDriverWait\n",
    "from selenium.webdriver.support import expected_conditions as EC"
   ]
  },
  {
   "cell_type": "markdown",
   "id": "0d921440",
   "metadata": {},
   "source": [
    "# First, we will import our needed libraries. Pandas is for data manipulation, time is for timing our code, and selenium is for web scraping.\n",
    "### We will also be using the Chrome web driver, which allows us to control a Chrome browser from Python."
   ]
  },
  {
   "cell_type": "code",
   "execution_count": 2,
   "id": "99d9da0a",
   "metadata": {},
   "outputs": [],
   "source": [
    "data=[]\n",
    "def commentscrap(url):\n",
    "    with Chrome() as driver:\n",
    "        wait = WebDriverWait(driver,10) #selenium will wait for a max of 10 seconds\n",
    "        driver.get(url) #accessing the URL you want with the driver.get function\n",
    "\n",
    "        for item in range(10): #higher range = more content\n",
    "            wait.until(EC.visibility_of_element_located((By.TAG_NAME, \"body\"))).send_keys(Keys.END) #scrolling down and wait until everything is visible with wait.until and EC.visibility_of_element_located.\n",
    "            time.sleep(5)\n",
    "\n",
    "        for comment in wait.until(EC.presence_of_all_elements_located((By.CSS_SELECTOR, \"#comment #content-text\"))): #locating the comments section\n",
    "            print(data.append(comment.text)) #appends comments to data list"
   ]
  },
  {
   "cell_type": "markdown",
   "id": "729ba641",
   "metadata": {},
   "source": [
    "# Next, we will define our commentscrap function. This function will take in a URL and scrape the comments from that URL.\n",
    "### We will use Selenium to scroll down the page and load more comments, and then we will use Pandas to store those comments in a list."
   ]
  },
  {
   "cell_type": "code",
   "execution_count": 3,
   "id": "02992a6e",
   "metadata": {},
   "outputs": [
    {
     "ename": "NoSuchWindowException",
     "evalue": "Message: no such window: target window already closed\nfrom unknown error: web view not found\n  (Session info: chrome=107.0.5304.110)\nStacktrace:\n0   chromedriver                        0x0000000100f552c8 chromedriver + 4752072\n1   chromedriver                        0x0000000100ed5463 chromedriver + 4228195\n2   chromedriver                        0x0000000100b38b18 chromedriver + 441112\n3   chromedriver                        0x0000000100b15210 chromedriver + 295440\n4   chromedriver                        0x0000000100b9ae3d chromedriver + 843325\n5   chromedriver                        0x0000000100bae719 chromedriver + 923417\n6   chromedriver                        0x0000000100b96b33 chromedriver + 826163\n7   chromedriver                        0x0000000100b679fd chromedriver + 633341\n8   chromedriver                        0x0000000100b69051 chromedriver + 639057\n9   chromedriver                        0x0000000100f2230e chromedriver + 4543246\n10  chromedriver                        0x0000000100f26a88 chromedriver + 4561544\n11  chromedriver                        0x0000000100f2e6df chromedriver + 4593375\n12  chromedriver                        0x0000000100f278fa chromedriver + 4565242\n13  chromedriver                        0x0000000100efd2cf chromedriver + 4391631\n14  chromedriver                        0x0000000100f465b8 chromedriver + 4691384\n15  chromedriver                        0x0000000100f46739 chromedriver + 4691769\n16  chromedriver                        0x0000000100f5c81e chromedriver + 4782110\n17  libsystem_pthread.dylib             0x00007ff81e2a3259 _pthread_start + 125\n18  libsystem_pthread.dylib             0x00007ff81e29ec7b thread_start + 15\n",
     "output_type": "error",
     "traceback": [
      "\u001b[0;31m---------------------------------------------------------------------------\u001b[0m",
      "\u001b[0;31mNoSuchWindowException\u001b[0m                     Traceback (most recent call last)",
      "\u001b[1;32m/Users/lucashawranke/Documents/data-science/ds-project-data-engineering-3/old.ipynb Cell 6\u001b[0m in \u001b[0;36m<cell line: 2>\u001b[0;34m()\u001b[0m\n\u001b[1;32m      <a href='vscode-notebook-cell:/Users/lucashawranke/Documents/data-science/ds-project-data-engineering-3/old.ipynb#W5sZmlsZQ%3D%3D?line=0'>1</a>\u001b[0m url\u001b[39m=\u001b[39m\u001b[39m'\u001b[39m\u001b[39mhttps://www.youtube.com/watch?v=q0hyYWKXF0Q\u001b[39m\u001b[39m'\u001b[39m \u001b[39m#video of choice\u001b[39;00m\n\u001b[0;32m----> <a href='vscode-notebook-cell:/Users/lucashawranke/Documents/data-science/ds-project-data-engineering-3/old.ipynb#W5sZmlsZQ%3D%3D?line=1'>2</a>\u001b[0m commentscrap(url)\n",
      "\u001b[1;32m/Users/lucashawranke/Documents/data-science/ds-project-data-engineering-3/old.ipynb Cell 6\u001b[0m in \u001b[0;36mcommentscrap\u001b[0;34m(url)\u001b[0m\n\u001b[1;32m      <a href='vscode-notebook-cell:/Users/lucashawranke/Documents/data-science/ds-project-data-engineering-3/old.ipynb#W5sZmlsZQ%3D%3D?line=4'>5</a>\u001b[0m driver\u001b[39m.\u001b[39mget(url) \u001b[39m#accessing the URL you want with the driver.get function\u001b[39;00m\n\u001b[1;32m      <a href='vscode-notebook-cell:/Users/lucashawranke/Documents/data-science/ds-project-data-engineering-3/old.ipynb#W5sZmlsZQ%3D%3D?line=6'>7</a>\u001b[0m \u001b[39mfor\u001b[39;00m item \u001b[39min\u001b[39;00m \u001b[39mrange\u001b[39m(\u001b[39m10\u001b[39m): \u001b[39m#higher range = more content\u001b[39;00m\n\u001b[0;32m----> <a href='vscode-notebook-cell:/Users/lucashawranke/Documents/data-science/ds-project-data-engineering-3/old.ipynb#W5sZmlsZQ%3D%3D?line=7'>8</a>\u001b[0m     wait\u001b[39m.\u001b[39;49muntil(EC\u001b[39m.\u001b[39;49mvisibility_of_element_located((By\u001b[39m.\u001b[39;49mTAG_NAME, \u001b[39m\"\u001b[39;49m\u001b[39mbody\u001b[39;49m\u001b[39m\"\u001b[39;49m)))\u001b[39m.\u001b[39msend_keys(Keys\u001b[39m.\u001b[39mEND) \u001b[39m#scrolling down and wait until everything is visible with wait.until and EC.visibility_of_element_located.\u001b[39;00m\n\u001b[1;32m      <a href='vscode-notebook-cell:/Users/lucashawranke/Documents/data-science/ds-project-data-engineering-3/old.ipynb#W5sZmlsZQ%3D%3D?line=8'>9</a>\u001b[0m     time\u001b[39m.\u001b[39msleep(\u001b[39m5\u001b[39m)\n\u001b[1;32m     <a href='vscode-notebook-cell:/Users/lucashawranke/Documents/data-science/ds-project-data-engineering-3/old.ipynb#W5sZmlsZQ%3D%3D?line=10'>11</a>\u001b[0m \u001b[39mfor\u001b[39;00m comment \u001b[39min\u001b[39;00m wait\u001b[39m.\u001b[39muntil(EC\u001b[39m.\u001b[39mpresence_of_all_elements_located((By\u001b[39m.\u001b[39mCSS_SELECTOR, \u001b[39m\"\u001b[39m\u001b[39m#comment #content-text\u001b[39m\u001b[39m\"\u001b[39m))): \u001b[39m#locating the comments section\u001b[39;00m\n",
      "File \u001b[0;32m~/opt/anaconda3/lib/python3.9/site-packages/selenium/webdriver/support/wait.py:86\u001b[0m, in \u001b[0;36mWebDriverWait.until\u001b[0;34m(self, method, message)\u001b[0m\n\u001b[1;32m     84\u001b[0m \u001b[39mwhile\u001b[39;00m \u001b[39mTrue\u001b[39;00m:\n\u001b[1;32m     85\u001b[0m     \u001b[39mtry\u001b[39;00m:\n\u001b[0;32m---> 86\u001b[0m         value \u001b[39m=\u001b[39m method(\u001b[39mself\u001b[39;49m\u001b[39m.\u001b[39;49m_driver)\n\u001b[1;32m     87\u001b[0m         \u001b[39mif\u001b[39;00m value:\n\u001b[1;32m     88\u001b[0m             \u001b[39mreturn\u001b[39;00m value\n",
      "File \u001b[0;32m~/opt/anaconda3/lib/python3.9/site-packages/selenium/webdriver/support/expected_conditions.py:125\u001b[0m, in \u001b[0;36mvisibility_of_element_located.<locals>._predicate\u001b[0;34m(driver)\u001b[0m\n\u001b[1;32m    123\u001b[0m \u001b[39mdef\u001b[39;00m \u001b[39m_predicate\u001b[39m(driver):\n\u001b[1;32m    124\u001b[0m     \u001b[39mtry\u001b[39;00m:\n\u001b[0;32m--> 125\u001b[0m         \u001b[39mreturn\u001b[39;00m _element_if_visible(driver\u001b[39m.\u001b[39;49mfind_element(\u001b[39m*\u001b[39;49mlocator))\n\u001b[1;32m    126\u001b[0m     \u001b[39mexcept\u001b[39;00m StaleElementReferenceException:\n\u001b[1;32m    127\u001b[0m         \u001b[39mreturn\u001b[39;00m \u001b[39mFalse\u001b[39;00m\n",
      "File \u001b[0;32m~/opt/anaconda3/lib/python3.9/site-packages/selenium/webdriver/remote/webdriver.py:861\u001b[0m, in \u001b[0;36mWebDriver.find_element\u001b[0;34m(self, by, value)\u001b[0m\n\u001b[1;32m    858\u001b[0m     by \u001b[39m=\u001b[39m By\u001b[39m.\u001b[39mCSS_SELECTOR\n\u001b[1;32m    859\u001b[0m     value \u001b[39m=\u001b[39m \u001b[39m'\u001b[39m\u001b[39m[name=\u001b[39m\u001b[39m\"\u001b[39m\u001b[39m%s\u001b[39;00m\u001b[39m\"\u001b[39m\u001b[39m]\u001b[39m\u001b[39m'\u001b[39m \u001b[39m%\u001b[39m value\n\u001b[0;32m--> 861\u001b[0m \u001b[39mreturn\u001b[39;00m \u001b[39mself\u001b[39;49m\u001b[39m.\u001b[39;49mexecute(Command\u001b[39m.\u001b[39;49mFIND_ELEMENT, {\u001b[39m\"\u001b[39;49m\u001b[39musing\u001b[39;49m\u001b[39m\"\u001b[39;49m: by, \u001b[39m\"\u001b[39;49m\u001b[39mvalue\u001b[39;49m\u001b[39m\"\u001b[39;49m: value})[\u001b[39m\"\u001b[39m\u001b[39mvalue\u001b[39m\u001b[39m\"\u001b[39m]\n",
      "File \u001b[0;32m~/opt/anaconda3/lib/python3.9/site-packages/selenium/webdriver/remote/webdriver.py:444\u001b[0m, in \u001b[0;36mWebDriver.execute\u001b[0;34m(self, driver_command, params)\u001b[0m\n\u001b[1;32m    442\u001b[0m response \u001b[39m=\u001b[39m \u001b[39mself\u001b[39m\u001b[39m.\u001b[39mcommand_executor\u001b[39m.\u001b[39mexecute(driver_command, params)\n\u001b[1;32m    443\u001b[0m \u001b[39mif\u001b[39;00m response:\n\u001b[0;32m--> 444\u001b[0m     \u001b[39mself\u001b[39;49m\u001b[39m.\u001b[39;49merror_handler\u001b[39m.\u001b[39;49mcheck_response(response)\n\u001b[1;32m    445\u001b[0m     response[\u001b[39m\"\u001b[39m\u001b[39mvalue\u001b[39m\u001b[39m\"\u001b[39m] \u001b[39m=\u001b[39m \u001b[39mself\u001b[39m\u001b[39m.\u001b[39m_unwrap_value(response\u001b[39m.\u001b[39mget(\u001b[39m\"\u001b[39m\u001b[39mvalue\u001b[39m\u001b[39m\"\u001b[39m, \u001b[39mNone\u001b[39;00m))\n\u001b[1;32m    446\u001b[0m     \u001b[39mreturn\u001b[39;00m response\n",
      "File \u001b[0;32m~/opt/anaconda3/lib/python3.9/site-packages/selenium/webdriver/remote/errorhandler.py:249\u001b[0m, in \u001b[0;36mErrorHandler.check_response\u001b[0;34m(self, response)\u001b[0m\n\u001b[1;32m    247\u001b[0m         alert_text \u001b[39m=\u001b[39m value[\u001b[39m\"\u001b[39m\u001b[39malert\u001b[39m\u001b[39m\"\u001b[39m]\u001b[39m.\u001b[39mget(\u001b[39m\"\u001b[39m\u001b[39mtext\u001b[39m\u001b[39m\"\u001b[39m)\n\u001b[1;32m    248\u001b[0m     \u001b[39mraise\u001b[39;00m exception_class(message, screen, stacktrace, alert_text)  \u001b[39m# type: ignore[call-arg]  # mypy is not smart enough here\u001b[39;00m\n\u001b[0;32m--> 249\u001b[0m \u001b[39mraise\u001b[39;00m exception_class(message, screen, stacktrace)\n",
      "\u001b[0;31mNoSuchWindowException\u001b[0m: Message: no such window: target window already closed\nfrom unknown error: web view not found\n  (Session info: chrome=107.0.5304.110)\nStacktrace:\n0   chromedriver                        0x0000000100f552c8 chromedriver + 4752072\n1   chromedriver                        0x0000000100ed5463 chromedriver + 4228195\n2   chromedriver                        0x0000000100b38b18 chromedriver + 441112\n3   chromedriver                        0x0000000100b15210 chromedriver + 295440\n4   chromedriver                        0x0000000100b9ae3d chromedriver + 843325\n5   chromedriver                        0x0000000100bae719 chromedriver + 923417\n6   chromedriver                        0x0000000100b96b33 chromedriver + 826163\n7   chromedriver                        0x0000000100b679fd chromedriver + 633341\n8   chromedriver                        0x0000000100b69051 chromedriver + 639057\n9   chromedriver                        0x0000000100f2230e chromedriver + 4543246\n10  chromedriver                        0x0000000100f26a88 chromedriver + 4561544\n11  chromedriver                        0x0000000100f2e6df chromedriver + 4593375\n12  chromedriver                        0x0000000100f278fa chromedriver + 4565242\n13  chromedriver                        0x0000000100efd2cf chromedriver + 4391631\n14  chromedriver                        0x0000000100f465b8 chromedriver + 4691384\n15  chromedriver                        0x0000000100f46739 chromedriver + 4691769\n16  chromedriver                        0x0000000100f5c81e chromedriver + 4782110\n17  libsystem_pthread.dylib             0x00007ff81e2a3259 _pthread_start + 125\n18  libsystem_pthread.dylib             0x00007ff81e29ec7b thread_start + 15\n"
     ]
    }
   ],
   "source": [
    "url='https://www.youtube.com/watch?v=q0hyYWKXF0Q' #video of choice\n",
    "commentscrap(url);"
   ]
  },
  {
   "cell_type": "markdown",
   "id": "5e0e747e",
   "metadata": {},
   "source": [
    "# For this project, we decided to go for a video that might be deemed controversial, and one that would spew many opinions from commenters\n",
    "### The video in question is \"TONES AND I - DANCE MONKEY (OFFICIAL VIDEO)\" uploaded by Tones And I, the music video for her chart-topping song.\n"
   ]
  },
  {
   "cell_type": "code",
   "execution_count": null,
   "id": "7f954ed2",
   "metadata": {},
   "outputs": [
    {
     "data": {
      "text/html": [
       "<div>\n",
       "<style scoped>\n",
       "    .dataframe tbody tr th:only-of-type {\n",
       "        vertical-align: middle;\n",
       "    }\n",
       "\n",
       "    .dataframe tbody tr th {\n",
       "        vertical-align: top;\n",
       "    }\n",
       "\n",
       "    .dataframe thead th {\n",
       "        text-align: right;\n",
       "    }\n",
       "</style>\n",
       "<table border=\"1\" class=\"dataframe\">\n",
       "  <thead>\n",
       "    <tr style=\"text-align: right;\">\n",
       "      <th></th>\n",
       "      <th>comment</th>\n",
       "    </tr>\n",
       "  </thead>\n",
       "  <tbody>\n",
       "    <tr>\n",
       "      <th>0</th>\n",
       "      <td>In Australia they play this like every ten son...</td>\n",
       "    </tr>\n",
       "    <tr>\n",
       "      <th>1</th>\n",
       "      <td>Out of all of the songs ever made, this is def...</td>\n",
       "    </tr>\n",
       "    <tr>\n",
       "      <th>2</th>\n",
       "      <td>Every time I'm completely unmotivated, and hav...</td>\n",
       "    </tr>\n",
       "    <tr>\n",
       "      <th>3</th>\n",
       "      <td>Gosebumps</td>\n",
       "    </tr>\n",
       "    <tr>\n",
       "      <th>4</th>\n",
       "      <td>Amo esse clipe.</td>\n",
       "    </tr>\n",
       "    <tr>\n",
       "      <th>...</th>\n",
       "      <td>...</td>\n",
       "    </tr>\n",
       "    <tr>\n",
       "      <th>215</th>\n",
       "      <td>que verdade tão linda</td>\n",
       "    </tr>\n",
       "    <tr>\n",
       "      <th>216</th>\n",
       "      <td>Others: Dance for me, dance for me, dance for ...</td>\n",
       "    </tr>\n",
       "    <tr>\n",
       "      <th>217</th>\n",
       "      <td>Soy mexicano &amp;me fascinó la canción Genial</td>\n",
       "    </tr>\n",
       "    <tr>\n",
       "      <th>218</th>\n",
       "      <td>I love this</td>\n",
       "    </tr>\n",
       "    <tr>\n",
       "      <th>219</th>\n",
       "      <td>Dance Monkey\\n\\nCanción de Tones and I\\n\\nLetr...</td>\n",
       "    </tr>\n",
       "  </tbody>\n",
       "</table>\n",
       "<p>220 rows × 1 columns</p>\n",
       "</div>"
      ],
      "text/plain": [
       "                                               comment\n",
       "0    In Australia they play this like every ten son...\n",
       "1    Out of all of the songs ever made, this is def...\n",
       "2    Every time I'm completely unmotivated, and hav...\n",
       "3                                           Gosebumps \n",
       "4                                      Amo esse clipe.\n",
       "..                                                 ...\n",
       "215                              que verdade tão linda\n",
       "216  Others: Dance for me, dance for me, dance for ...\n",
       "217        Soy mexicano &me fascinó la canción Genial \n",
       "218                                       I love this \n",
       "219  Dance Monkey\\n\\nCanción de Tones and I\\n\\nLetr...\n",
       "\n",
       "[220 rows x 1 columns]"
      ]
     },
     "execution_count": 9,
     "metadata": {},
     "output_type": "execute_result"
    }
   ],
   "source": [
    "df = pd.DataFrame(data, columns=['comment'])\n",
    "df\n",
    "    "
   ]
  },
  {
   "cell_type": "markdown",
   "id": "f2b72ce3",
   "metadata": {},
   "source": [
    "# Here, we're using Pandas to create a DataFrame from our list of comments. \n",
    "### This DataFrame will be used in our next step, which is to cluster the comments."
   ]
  },
  {
   "cell_type": "code",
   "execution_count": null,
   "id": "97aa30bb",
   "metadata": {},
   "outputs": [],
   "source": [
    "from sklearn.feature_extraction.text import CountVectorizer #used to convert text to vectors\n",
    "from sklearn.decomposition import PCA\n",
    "vectorizer = CountVectorizer()\n",
    "x_vectorize=vectorizer.fit_transform(df.comment).toarray() #to turn the sentences to numbers\n",
    "x_vectorize.shape\n",
    "pca=PCA(n_components=2)\n",
    "x_pca=pca.fit_transform(x_vectorize) #reducing the dimentionality to 2\n",
    "df['x']=x_pca[:,0]\n",
    "df['y']=x_pca[:,1]\n"
   ]
  },
  {
   "cell_type": "markdown",
   "id": "67b17ed1",
   "metadata": {},
   "source": [
    "# In this step, we will use Scikit-Learn to convert our comments into vectors. We will then use PCA to reduce the dimensionality of our vectors.\n",
    "### This is done so that our data is more manageable and we can more easily visualize it. We will store the x and y coordinates of our vectors in our DataFrame."
   ]
  },
  {
   "cell_type": "code",
   "execution_count": null,
   "id": "a701ed3e",
   "metadata": {},
   "outputs": [
    {
     "data": {
      "image/png": "[encoded data removed]",
      "text/plain": [
       "<Figure size 432x288 with 1 Axes>"
      ]
     },
     "metadata": {
      "needs_background": "light"
     },
     "output_type": "display_data"
    }
   ],
   "source": [
    "import matplotlib.pyplot as plt\n",
    "plt.style.use('fast')\n",
    "plt.title('Comments under \"Dancey Monkey\" music video (one cluster)')\n",
    "plt.xlabel(\"x\")\n",
    "plt.ylabel(\"y\")\n",
    "plt.scatter(x_pca[:,0],x_pca[:,1]);"
   ]
  },
  {
   "cell_type": "markdown",
   "id": "8b3cbbd8",
   "metadata": {},
   "source": [
    "# Here, we are visualizing our data using Matplotlib. We can see that our data is clustered fairly well along -1 and 1 on the x-axis. \n",
    "### This shows that these comments are similar in nature, with a few outliers (those comments that are far from the cluster/dissimilar to the rest)."
   ]
  },
  {
   "cell_type": "code",
   "execution_count": null,
   "id": "fe033d78",
   "metadata": {},
   "outputs": [
    {
     "data": {
      "text/plain": [
       "[<matplotlib.lines.Line2D at 0x7faec39bcfa0>]"
      ]
     },
     "execution_count": 27,
     "metadata": {},
     "output_type": "execute_result"
    },
    {
     "data": {
      "image/png": "[encoded data removed]",
      "text/plain": [
       "<Figure size 432x288 with 1 Axes>"
      ]
     },
     "metadata": {
      "needs_background": "light"
     },
     "output_type": "display_data"
    }
   ],
   "source": [
    "from sklearn.cluster import KMeans\n",
    "from sklearn.preprocessing import MinMaxScaler\n",
    "\n",
    "sse = []\n",
    "k_rng = range(1,10)\n",
    "for k in k_rng:\n",
    "    km = KMeans(n_clusters=k)\n",
    "    km.fit(df[['x','y']])\n",
    "    sse.append(km.inertia_)\n",
    "\n",
    "plt.xlabel('K')\n",
    "plt.ylabel('Sum of squared error')\n",
    "plt.plot(k_rng,sse)"
   ]
  },
  {
   "cell_type": "markdown",
   "id": "6ab2de10",
   "metadata": {},
   "source": [
    "# In this step, we are finding the optimal number of clusters using the elbow method.\n",
    "### We can see that the elbow is at k=4, which means that 4 clusters is the optimal number for our data."
   ]
  },
  {
   "cell_type": "code",
   "execution_count": null,
   "id": "9c575005",
   "metadata": {},
   "outputs": [
    {
     "data": {
      "text/plain": [
       "array([1, 1, 1, 0, 0, 0, 0, 0, 1, 1, 0, 0, 0, 1, 1, 0, 0, 0, 1, 0, 0, 0,\n",
       "       1, 0, 0, 1, 3, 0, 0, 0, 0, 0, 1, 0, 1, 0, 0, 0, 0, 0, 0, 0, 0, 0,\n",
       "       0, 0, 0, 0, 0, 0, 0, 0, 0, 0, 0, 2, 0, 1, 0, 0, 1, 1, 1, 1, 0, 0,\n",
       "       0, 0, 0, 0, 1, 1, 0, 1, 0, 1, 1, 0, 0, 1, 1, 0, 0, 0, 1, 1, 0, 0,\n",
       "       0, 0, 1, 0, 1, 1, 0, 0, 1, 0, 0, 1, 0, 0, 0, 0, 0, 0, 0, 1, 1, 0,\n",
       "       0, 0, 1, 0, 0, 0, 3, 0, 0, 1, 0, 1, 0, 0, 0, 0, 0, 0, 1, 0, 0, 0,\n",
       "       1, 1, 0, 2, 0, 1, 0, 3, 1, 0, 0, 0, 1, 1, 0, 0, 0, 0, 0, 0, 1, 1,\n",
       "       0, 1, 0, 0, 1, 3, 0, 0, 1, 1, 1, 0, 0, 0, 1, 1, 0, 0, 0, 1, 0, 3,\n",
       "       0, 0, 0, 0, 0, 0, 1, 0, 0, 1, 0, 0, 1, 1, 0, 0, 0, 1, 0, 0, 0, 0,\n",
       "       1, 0, 0, 0, 0, 0, 0, 0, 0, 1, 1, 1, 0, 1, 1, 3, 0, 0, 0, 0, 0, 0],\n",
       "      dtype=int32)"
      ]
     },
     "execution_count": 28,
     "metadata": {},
     "output_type": "execute_result"
    }
   ],
   "source": [
    "km = KMeans(n_clusters=4)\n",
    "y_predicted = km.fit_predict(df[['x','y']])\n",
    "y_predicted"
   ]
  },
  {
   "cell_type": "markdown",
   "id": "5588b8df",
   "metadata": {},
   "source": [
    "# Here, we are using KMeans to cluster our data. We can see that our data has been clustered into 4 groups."
   ]
  },
  {
   "cell_type": "code",
   "execution_count": null,
   "id": "99b18421",
   "metadata": {},
   "outputs": [
    {
     "data": {
      "text/html": [
       "<div>\n",
       "<style scoped>\n",
       "    .dataframe tbody tr th:only-of-type {\n",
       "        vertical-align: middle;\n",
       "    }\n",
       "\n",
       "    .dataframe tbody tr th {\n",
       "        vertical-align: top;\n",
       "    }\n",
       "\n",
       "    .dataframe thead th {\n",
       "        text-align: right;\n",
       "    }\n",
       "</style>\n",
       "<table border=\"1\" class=\"dataframe\">\n",
       "  <thead>\n",
       "    <tr style=\"text-align: right;\">\n",
       "      <th></th>\n",
       "      <th>comment</th>\n",
       "      <th>x</th>\n",
       "      <th>y</th>\n",
       "      <th>cluster</th>\n",
       "    </tr>\n",
       "  </thead>\n",
       "  <tbody>\n",
       "    <tr>\n",
       "      <th>0</th>\n",
       "      <td>In Australia they play this like every ten son...</td>\n",
       "      <td>0.179155</td>\n",
       "      <td>-0.321989</td>\n",
       "      <td>3</td>\n",
       "    </tr>\n",
       "    <tr>\n",
       "      <th>1</th>\n",
       "      <td>Out of all of the songs ever made, this is def...</td>\n",
       "      <td>2.461836</td>\n",
       "      <td>-0.834057</td>\n",
       "      <td>3</td>\n",
       "    </tr>\n",
       "    <tr>\n",
       "      <th>2</th>\n",
       "      <td>Every time I'm completely unmotivated, and hav...</td>\n",
       "      <td>1.551140</td>\n",
       "      <td>0.622692</td>\n",
       "      <td>3</td>\n",
       "    </tr>\n",
       "    <tr>\n",
       "      <th>3</th>\n",
       "      <td>Gosebumps</td>\n",
       "      <td>-0.812153</td>\n",
       "      <td>-0.145384</td>\n",
       "      <td>0</td>\n",
       "    </tr>\n",
       "    <tr>\n",
       "      <th>4</th>\n",
       "      <td>Amo esse clipe.</td>\n",
       "      <td>-0.851636</td>\n",
       "      <td>-0.164360</td>\n",
       "      <td>0</td>\n",
       "    </tr>\n",
       "  </tbody>\n",
       "</table>\n",
       "</div>"
      ],
      "text/plain": [
       "                                             comment         x         y  \\\n",
       "0  In Australia they play this like every ten son...  0.179155 -0.321989   \n",
       "1  Out of all of the songs ever made, this is def...  2.461836 -0.834057   \n",
       "2  Every time I'm completely unmotivated, and hav...  1.551140  0.622692   \n",
       "3                                         Gosebumps  -0.812153 -0.145384   \n",
       "4                                    Amo esse clipe. -0.851636 -0.164360   \n",
       "\n",
       "   cluster  \n",
       "0        3  \n",
       "1        3  \n",
       "2        3  \n",
       "3        0  \n",
       "4        0  "
      ]
     },
     "execution_count": 14,
     "metadata": {},
     "output_type": "execute_result"
    }
   ],
   "source": [
    "df['cluster']=y_predicted\n",
    "df.head()"
   ]
  },
  {
   "cell_type": "code",
   "execution_count": null,
   "id": "44663d95",
   "metadata": {},
   "outputs": [
    {
     "data": {
      "text/plain": [
       "array([[-0.62186668, -0.01889489],\n",
       "       [ 3.00800925,  3.3174979 ],\n",
       "       [ 8.07961901, -2.92174663],\n",
       "       [ 0.90357774, -0.17601642]])"
      ]
     },
     "execution_count": 15,
     "metadata": {},
     "output_type": "execute_result"
    }
   ],
   "source": [
    "km.cluster_centers_"
   ]
  },
  {
   "cell_type": "markdown",
   "id": "7ff501bc",
   "metadata": {},
   "source": [
    "# These are the coordinates of the center of each cluster.\n",
    "### Now, we will visualize our clusters, with each cluster being a different color.\n"
   ]
  },
  {
   "cell_type": "code",
   "execution_count": null,
   "id": "54e2e2c5",
   "metadata": {},
   "outputs": [
    {
     "data": {
      "image/png": "[encoded data removed]",
      "text/plain": [
       "<Figure size 432x288 with 1 Axes>"
      ]
     },
     "metadata": {
      "needs_background": "light"
     },
     "output_type": "display_data"
    }
   ],
   "source": [
    "df1 = df[df.cluster==0]\n",
    "df2 = df[df.cluster==1]\n",
    "df3 = df[df.cluster==2]\n",
    "df4 = df[df.cluster==3]\n",
    "plt.scatter(df1.x,df1.y,color='green')\n",
    "plt.scatter(df2.x,df2.y,color='red')\n",
    "plt.scatter(df3.x,df3.y,color='blue')\n",
    "plt.scatter(df4.x,df4.y,color='black')\n",
    "plt.scatter(km.cluster_centers_[:,0],km.cluster_centers_[:,1],color='purple',marker='*',label='centroid')\n",
    "plt.style.use('fast')\n",
    "plt.title('Comments under \"Dance Monkey\" music video (four clusters)')\n",
    "plt.legend();"
   ]
  },
  {
   "cell_type": "markdown",
   "id": "bac9b4bb",
   "metadata": {},
   "source": [
    "# We can see that our data has been clustered fairly well. The clusters barely overlap with one another, and they are all fairly compact (with the exception of our red & blue cluster, which are spread thinly over the x and y axis).\n",
    "### There are also a few outliers, which are points that are far from the cluster centroids (again, mainly a part of the red/blue cluster)."
   ]
  },
  {
   "cell_type": "code",
   "execution_count": null,
   "id": "0cb2486f",
   "metadata": {},
   "outputs": [
    {
     "data": {
      "text/html": [
       "<div>\n",
       "<style scoped>\n",
       "    .dataframe tbody tr th:only-of-type {\n",
       "        vertical-align: middle;\n",
       "    }\n",
       "\n",
       "    .dataframe tbody tr th {\n",
       "        vertical-align: top;\n",
       "    }\n",
       "\n",
       "    .dataframe thead th {\n",
       "        text-align: right;\n",
       "    }\n",
       "</style>\n",
       "<table border=\"1\" class=\"dataframe\">\n",
       "  <thead>\n",
       "    <tr style=\"text-align: right;\">\n",
       "      <th></th>\n",
       "      <th>comment</th>\n",
       "      <th>x</th>\n",
       "      <th>y</th>\n",
       "      <th>cluster</th>\n",
       "    </tr>\n",
       "  </thead>\n",
       "  <tbody>\n",
       "    <tr>\n",
       "      <th>3</th>\n",
       "      <td>Gosebumps</td>\n",
       "      <td>-0.812153</td>\n",
       "      <td>-0.145384</td>\n",
       "      <td>0</td>\n",
       "    </tr>\n",
       "    <tr>\n",
       "      <th>4</th>\n",
       "      <td>Amo esse clipe.</td>\n",
       "      <td>-0.851636</td>\n",
       "      <td>-0.164360</td>\n",
       "      <td>0</td>\n",
       "    </tr>\n",
       "    <tr>\n",
       "      <th>5</th>\n",
       "      <td>Makes me want to DANCE and sing.</td>\n",
       "      <td>-0.420112</td>\n",
       "      <td>0.791869</td>\n",
       "      <td>0</td>\n",
       "    </tr>\n",
       "    <tr>\n",
       "      <th>6</th>\n",
       "      <td>videos:Grandpa's \\nVoice: Female \\nme: confuse...</td>\n",
       "      <td>-0.796047</td>\n",
       "      <td>0.125682</td>\n",
       "      <td>0</td>\n",
       "    </tr>\n",
       "    <tr>\n",
       "      <th>7</th>\n",
       "      <td>Perfeita!!!.</td>\n",
       "      <td>-0.814589</td>\n",
       "      <td>-0.146543</td>\n",
       "      <td>0</td>\n",
       "    </tr>\n",
       "    <tr>\n",
       "      <th>...</th>\n",
       "      <td>...</td>\n",
       "      <td>...</td>\n",
       "      <td>...</td>\n",
       "      <td>...</td>\n",
       "    </tr>\n",
       "    <tr>\n",
       "      <th>215</th>\n",
       "      <td>que verdade tão linda</td>\n",
       "      <td>-0.858332</td>\n",
       "      <td>-0.170107</td>\n",
       "      <td>0</td>\n",
       "    </tr>\n",
       "    <tr>\n",
       "      <th>216</th>\n",
       "      <td>Others: Dance for me, dance for me, dance for ...</td>\n",
       "      <td>-0.437053</td>\n",
       "      <td>3.147735</td>\n",
       "      <td>0</td>\n",
       "    </tr>\n",
       "    <tr>\n",
       "      <th>217</th>\n",
       "      <td>Soy mexicano &amp;me fascinó la canción Genial</td>\n",
       "      <td>-0.839814</td>\n",
       "      <td>0.103482</td>\n",
       "      <td>0</td>\n",
       "    </tr>\n",
       "    <tr>\n",
       "      <th>218</th>\n",
       "      <td>I love this</td>\n",
       "      <td>-0.191918</td>\n",
       "      <td>-0.352648</td>\n",
       "      <td>0</td>\n",
       "    </tr>\n",
       "    <tr>\n",
       "      <th>219</th>\n",
       "      <td>Dance Monkey\\n\\nCanción de Tones and I\\n\\nLetr...</td>\n",
       "      <td>0.065427</td>\n",
       "      <td>1.994410</td>\n",
       "      <td>0</td>\n",
       "    </tr>\n",
       "  </tbody>\n",
       "</table>\n",
       "<p>148 rows × 4 columns</p>\n",
       "</div>"
      ],
      "text/plain": [
       "                                               comment         x         y  \\\n",
       "3                                           Gosebumps  -0.812153 -0.145384   \n",
       "4                                      Amo esse clipe. -0.851636 -0.164360   \n",
       "5                     Makes me want to DANCE and sing. -0.420112  0.791869   \n",
       "6    videos:Grandpa's \\nVoice: Female \\nme: confuse... -0.796047  0.125682   \n",
       "7                                         Perfeita!!!. -0.814589 -0.146543   \n",
       "..                                                 ...       ...       ...   \n",
       "215                              que verdade tão linda -0.858332 -0.170107   \n",
       "216  Others: Dance for me, dance for me, dance for ... -0.437053  3.147735   \n",
       "217        Soy mexicano &me fascinó la canción Genial  -0.839814  0.103482   \n",
       "218                                       I love this  -0.191918 -0.352648   \n",
       "219  Dance Monkey\\n\\nCanción de Tones and I\\n\\nLetr...  0.065427  1.994410   \n",
       "\n",
       "     cluster  \n",
       "3          0  \n",
       "4          0  \n",
       "5          0  \n",
       "6          0  \n",
       "7          0  \n",
       "..       ...  \n",
       "215        0  \n",
       "216        0  \n",
       "217        0  \n",
       "218        0  \n",
       "219        0  \n",
       "\n",
       "[148 rows x 4 columns]"
      ]
     },
     "execution_count": 17,
     "metadata": {},
     "output_type": "execute_result"
    }
   ],
   "source": [
    "df[df['cluster']==0]"
   ]
  },
  {
   "cell_type": "markdown",
   "id": "40de4d30",
   "metadata": {},
   "source": [
    "# The above comments are in our green cluster.\n",
    "### We can see that these comments are mostly neutral to positive, and include those in different languages (Portuguese, Spanish, German, etc.)"
   ]
  },
  {
   "cell_type": "code",
   "execution_count": null,
   "id": "04df904a",
   "metadata": {},
   "outputs": [
    {
     "data": {
      "text/html": [
       "<div>\n",
       "<style scoped>\n",
       "    .dataframe tbody tr th:only-of-type {\n",
       "        vertical-align: middle;\n",
       "    }\n",
       "\n",
       "    .dataframe tbody tr th {\n",
       "        vertical-align: top;\n",
       "    }\n",
       "\n",
       "    .dataframe thead th {\n",
       "        text-align: right;\n",
       "    }\n",
       "</style>\n",
       "<table border=\"1\" class=\"dataframe\">\n",
       "  <thead>\n",
       "    <tr style=\"text-align: right;\">\n",
       "      <th></th>\n",
       "      <th>comment</th>\n",
       "      <th>x</th>\n",
       "      <th>y</th>\n",
       "      <th>cluster</th>\n",
       "    </tr>\n",
       "  </thead>\n",
       "  <tbody>\n",
       "    <tr>\n",
       "      <th>26</th>\n",
       "      <td>I remember my family explaining my coma I went...</td>\n",
       "      <td>6.346924</td>\n",
       "      <td>4.243451</td>\n",
       "      <td>1</td>\n",
       "    </tr>\n",
       "    <tr>\n",
       "      <th>116</th>\n",
       "      <td>Man this grandpa is very funny I love this son...</td>\n",
       "      <td>2.848947</td>\n",
       "      <td>1.965143</td>\n",
       "      <td>1</td>\n",
       "    </tr>\n",
       "    <tr>\n",
       "      <th>139</th>\n",
       "      <td>They say oh my God I see the way you shine\\nTa...</td>\n",
       "      <td>1.600010</td>\n",
       "      <td>5.601901</td>\n",
       "      <td>1</td>\n",
       "    </tr>\n",
       "    <tr>\n",
       "      <th>159</th>\n",
       "      <td>Thank you, Tones and I. Thanks to this song of...</td>\n",
       "      <td>3.121624</td>\n",
       "      <td>1.691550</td>\n",
       "      <td>1</td>\n",
       "    </tr>\n",
       "    <tr>\n",
       "      <th>175</th>\n",
       "      <td>Lyrics:\\nThey say oh my God I see the way you ...</td>\n",
       "      <td>0.829655</td>\n",
       "      <td>4.229205</td>\n",
       "      <td>1</td>\n",
       "    </tr>\n",
       "    <tr>\n",
       "      <th>213</th>\n",
       "      <td>great song. belive in you and thats the messag...</td>\n",
       "      <td>3.300896</td>\n",
       "      <td>2.173737</td>\n",
       "      <td>1</td>\n",
       "    </tr>\n",
       "  </tbody>\n",
       "</table>\n",
       "</div>"
      ],
      "text/plain": [
       "                                               comment         x         y  \\\n",
       "26   I remember my family explaining my coma I went...  6.346924  4.243451   \n",
       "116  Man this grandpa is very funny I love this son...  2.848947  1.965143   \n",
       "139  They say oh my God I see the way you shine\\nTa...  1.600010  5.601901   \n",
       "159  Thank you, Tones and I. Thanks to this song of...  3.121624  1.691550   \n",
       "175  Lyrics:\\nThey say oh my God I see the way you ...  0.829655  4.229205   \n",
       "213  great song. belive in you and thats the messag...  3.300896  2.173737   \n",
       "\n",
       "     cluster  \n",
       "26         1  \n",
       "116        1  \n",
       "139        1  \n",
       "159        1  \n",
       "175        1  \n",
       "213        1  "
      ]
     },
     "execution_count": 18,
     "metadata": {},
     "output_type": "execute_result"
    }
   ],
   "source": [
    "df[df['cluster']==1]"
   ]
  },
  {
   "cell_type": "markdown",
   "id": "c5a64ea1",
   "metadata": {},
   "source": [
    "# The above comments are in our red cluster.\n",
    "### We can see that these comments are all extremely similar, and some of them happen to repeat lyrics made in the song."
   ]
  },
  {
   "cell_type": "code",
   "execution_count": null,
   "id": "d9caba65",
   "metadata": {},
   "outputs": [
    {
     "data": {
      "text/html": [
       "<div>\n",
       "<style scoped>\n",
       "    .dataframe tbody tr th:only-of-type {\n",
       "        vertical-align: middle;\n",
       "    }\n",
       "\n",
       "    .dataframe tbody tr th {\n",
       "        vertical-align: top;\n",
       "    }\n",
       "\n",
       "    .dataframe thead th {\n",
       "        text-align: right;\n",
       "    }\n",
       "</style>\n",
       "<table border=\"1\" class=\"dataframe\">\n",
       "  <thead>\n",
       "    <tr style=\"text-align: right;\">\n",
       "      <th></th>\n",
       "      <th>comment</th>\n",
       "      <th>x</th>\n",
       "      <th>y</th>\n",
       "      <th>cluster</th>\n",
       "    </tr>\n",
       "  </thead>\n",
       "  <tbody>\n",
       "    <tr>\n",
       "      <th>55</th>\n",
       "      <td>I love music and this is definitely a song. If...</td>\n",
       "      <td>6.439517</td>\n",
       "      <td>-1.687998</td>\n",
       "      <td>2</td>\n",
       "    </tr>\n",
       "    <tr>\n",
       "      <th>135</th>\n",
       "      <td>I remember listening to this with my older sis...</td>\n",
       "      <td>9.719721</td>\n",
       "      <td>-4.155495</td>\n",
       "      <td>2</td>\n",
       "    </tr>\n",
       "  </tbody>\n",
       "</table>\n",
       "</div>"
      ],
      "text/plain": [
       "                                               comment         x         y  \\\n",
       "55   I love music and this is definitely a song. If...  6.439517 -1.687998   \n",
       "135  I remember listening to this with my older sis...  9.719721 -4.155495   \n",
       "\n",
       "     cluster  \n",
       "55         2  \n",
       "135        2  "
      ]
     },
     "execution_count": 19,
     "metadata": {},
     "output_type": "execute_result"
    }
   ],
   "source": [
    "df[df['cluster']==2]"
   ]
  },
  {
   "cell_type": "markdown",
   "id": "09be9da6",
   "metadata": {},
   "source": [
    "# The above comments are in our blue cluster.\n",
    "### Each comment here seems to reminisce over a particular experience over the song, including keywords such as \"remember\" and mentioning stories to do with the video."
   ]
  },
  {
   "cell_type": "code",
   "execution_count": null,
   "id": "8a928efb",
   "metadata": {},
   "outputs": [
    {
     "data": {
      "text/html": [
       "<div>\n",
       "<style scoped>\n",
       "    .dataframe tbody tr th:only-of-type {\n",
       "        vertical-align: middle;\n",
       "    }\n",
       "\n",
       "    .dataframe tbody tr th {\n",
       "        vertical-align: top;\n",
       "    }\n",
       "\n",
       "    .dataframe thead th {\n",
       "        text-align: right;\n",
       "    }\n",
       "</style>\n",
       "<table border=\"1\" class=\"dataframe\">\n",
       "  <thead>\n",
       "    <tr style=\"text-align: right;\">\n",
       "      <th></th>\n",
       "      <th>comment</th>\n",
       "      <th>x</th>\n",
       "      <th>y</th>\n",
       "      <th>cluster</th>\n",
       "    </tr>\n",
       "  </thead>\n",
       "  <tbody>\n",
       "    <tr>\n",
       "      <th>0</th>\n",
       "      <td>In Australia they play this like every ten son...</td>\n",
       "      <td>0.179155</td>\n",
       "      <td>-0.321989</td>\n",
       "      <td>3</td>\n",
       "    </tr>\n",
       "    <tr>\n",
       "      <th>1</th>\n",
       "      <td>Out of all of the songs ever made, this is def...</td>\n",
       "      <td>2.461836</td>\n",
       "      <td>-0.834057</td>\n",
       "      <td>3</td>\n",
       "    </tr>\n",
       "    <tr>\n",
       "      <th>2</th>\n",
       "      <td>Every time I'm completely unmotivated, and hav...</td>\n",
       "      <td>1.551140</td>\n",
       "      <td>0.622692</td>\n",
       "      <td>3</td>\n",
       "    </tr>\n",
       "    <tr>\n",
       "      <th>8</th>\n",
       "      <td>It’s a funny thing. This played on the radio 5...</td>\n",
       "      <td>1.803985</td>\n",
       "      <td>0.434817</td>\n",
       "      <td>3</td>\n",
       "    </tr>\n",
       "    <tr>\n",
       "      <th>9</th>\n",
       "      <td>love this song</td>\n",
       "      <td>0.246590</td>\n",
       "      <td>-0.474708</td>\n",
       "      <td>3</td>\n",
       "    </tr>\n",
       "    <tr>\n",
       "      <th>...</th>\n",
       "      <td>...</td>\n",
       "      <td>...</td>\n",
       "      <td>...</td>\n",
       "      <td>...</td>\n",
       "    </tr>\n",
       "    <tr>\n",
       "      <th>207</th>\n",
       "      <td>Love this coz at my side it's  brings  memorie...</td>\n",
       "      <td>0.700411</td>\n",
       "      <td>0.336690</td>\n",
       "      <td>3</td>\n",
       "    </tr>\n",
       "    <tr>\n",
       "      <th>208</th>\n",
       "      <td>This music video will be my favorite for a ver...</td>\n",
       "      <td>0.304725</td>\n",
       "      <td>0.142916</td>\n",
       "      <td>3</td>\n",
       "    </tr>\n",
       "    <tr>\n",
       "      <th>209</th>\n",
       "      <td>This is my mine and my kids fave song</td>\n",
       "      <td>0.923500</td>\n",
       "      <td>0.546017</td>\n",
       "      <td>3</td>\n",
       "    </tr>\n",
       "    <tr>\n",
       "      <th>211</th>\n",
       "      <td>This is like one of the best songs Eva</td>\n",
       "      <td>0.582984</td>\n",
       "      <td>-0.714260</td>\n",
       "      <td>3</td>\n",
       "    </tr>\n",
       "    <tr>\n",
       "      <th>212</th>\n",
       "      <td>I'm near 50 years old. This song is a venon,ma...</td>\n",
       "      <td>0.640848</td>\n",
       "      <td>-0.027709</td>\n",
       "      <td>3</td>\n",
       "    </tr>\n",
       "  </tbody>\n",
       "</table>\n",
       "<p>64 rows × 4 columns</p>\n",
       "</div>"
      ],
      "text/plain": [
       "                                               comment         x         y  \\\n",
       "0    In Australia they play this like every ten son...  0.179155 -0.321989   \n",
       "1    Out of all of the songs ever made, this is def...  2.461836 -0.834057   \n",
       "2    Every time I'm completely unmotivated, and hav...  1.551140  0.622692   \n",
       "8    It’s a funny thing. This played on the radio 5...  1.803985  0.434817   \n",
       "9                                       love this song  0.246590 -0.474708   \n",
       "..                                                 ...       ...       ...   \n",
       "207  Love this coz at my side it's  brings  memorie...  0.700411  0.336690   \n",
       "208  This music video will be my favorite for a ver...  0.304725  0.142916   \n",
       "209             This is my mine and my kids fave song   0.923500  0.546017   \n",
       "211            This is like one of the best songs Eva   0.582984 -0.714260   \n",
       "212  I'm near 50 years old. This song is a venon,ma...  0.640848 -0.027709   \n",
       "\n",
       "     cluster  \n",
       "0          3  \n",
       "1          3  \n",
       "2          3  \n",
       "8          3  \n",
       "9          3  \n",
       "..       ...  \n",
       "207        3  \n",
       "208        3  \n",
       "209        3  \n",
       "211        3  \n",
       "212        3  \n",
       "\n",
       "[64 rows x 4 columns]"
      ]
     },
     "execution_count": 20,
     "metadata": {},
     "output_type": "execute_result"
    }
   ],
   "source": [
    "df[df['cluster']==3]"
   ]
  },
  {
   "cell_type": "markdown",
   "id": "2de068f0",
   "metadata": {},
   "source": [
    "# Finally, the above comments are in our black cluster.\n",
    "### We can see that these comments are all in the same language, and comments by commenters who are more inclined to share their (positive) opinion are found here as well, including words such as \"love\" and \"best\"."
   ]
  },
  {
   "cell_type": "markdown",
   "id": "23d789b1",
   "metadata": {},
   "source": [
    "# We can conclude that our clustering algorithm was successful in grouping together similar comments.\n",
    "### The red cluster seems to be the most uniform, while the black cluster is the most diverse (with the blue cluster coming in second). The green cluster is somewhere in the middle, being almost as uniform as the red cluster, and with much more diversity than the black cluster. The outliers in each cluster are also interesting to note, and how each cluster varies. With further analysis, we could see what makes these outliers different from the rest of the comments in their cluster. As a final note, it is interesting to see how the model was able to separate those comments left in different languages (putting them in the red cluster), while the other three clusters are virtually all in English."
   ]
  }
 ],
 "metadata": {
  "kernelspec": {
   "display_name": "Python 3.9.12 ('base')",
   "language": "python",
   "name": "python3"
  },
  "language_info": {
   "codemirror_mode": {
    "name": "ipython",
    "version": 3
   },
   "file_extension": ".py",
   "mimetype": "text/x-python",
   "name": "python",
   "nbconvert_exporter": "python",
   "pygments_lexer": "ipython3",
   "version": "3.9.12"
  },
  "vscode": {
   "interpreter": {
    "hash": "0cc3b03a9a7e4010a291141970bf1cb2053c725e17844b2b26603859505c2b66"
   }
  }
 },
 "nbformat": 4,
 "nbformat_minor": 5
}
