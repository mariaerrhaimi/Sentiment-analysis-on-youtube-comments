{
 "cells": [
  {
   "cell_type": "code",
   "execution_count": 3,
   "id": "8611dc15",
   "metadata": {},
   "outputs": [],
   "source": [
    "\n",
    "import pandas as pd\n",
    "\n",
    "import time\n",
    "from selenium.webdriver import Chrome\n",
    "from selenium.webdriver.common.by import By\n",
    "from selenium.webdriver.common.keys import Keys\n",
    "from selenium.webdriver.support.ui import WebDriverWait\n",
    "from selenium.webdriver.support import expected_conditions as EC\n",
    "data=[]\n",
    "def commentscrap(url):\n",
    "    with Chrome() as driver: #Access the URL you want with the driver.get function.\n",
    "        wait = WebDriverWait(driver,10) #Selenium will wait for a maximum of 10 seconds\n",
    "        driver.get(url) #Access the URL you want with the driver.get function.\n",
    "\n",
    "        for item in range(10): #by increasing the highest range you can get more content\n",
    "            wait.until(EC.visibility_of_element_located((By.TAG_NAME, \"body\"))).send_keys(Keys.END) #Scroll down and wait until everything is visible with wait.until and EC.visibility_of_element_located.\n",
    "            time.sleep(5)\n",
    "\n",
    "        for comment in wait.until(EC.presence_of_all_elements_located((By.CSS_SELECTOR, \"#comment #content-text\"))):\n",
    "            print(data.append(comment.text))\n",
    "\n"
   ]
  },
  {
   "cell_type": "code",
   "execution_count": 4,
   "id": "06405e0c",
   "metadata": {},
   "outputs": [
    {
     "name": "stdout",
     "output_type": "stream",
     "text": [
      "None\n",
      "None\n",
      "None\n",
      "None\n",
      "None\n",
      "None\n",
      "None\n",
      "None\n",
      "None\n",
      "None\n",
      "None\n",
      "None\n",
      "None\n",
      "None\n",
      "None\n",
      "None\n",
      "None\n",
      "None\n",
      "None\n",
      "None\n",
      "None\n",
      "None\n",
      "None\n",
      "None\n",
      "None\n",
      "None\n",
      "None\n",
      "None\n",
      "None\n",
      "None\n",
      "None\n",
      "None\n",
      "None\n",
      "None\n",
      "None\n",
      "None\n",
      "None\n",
      "None\n",
      "None\n",
      "None\n",
      "None\n",
      "None\n",
      "None\n",
      "None\n",
      "None\n",
      "None\n",
      "None\n",
      "None\n",
      "None\n",
      "None\n",
      "None\n",
      "None\n",
      "None\n",
      "None\n",
      "None\n",
      "None\n",
      "None\n",
      "None\n",
      "None\n",
      "None\n",
      "None\n",
      "None\n",
      "None\n",
      "None\n",
      "None\n",
      "None\n",
      "None\n",
      "None\n",
      "None\n",
      "None\n",
      "None\n",
      "None\n",
      "None\n",
      "None\n",
      "None\n",
      "None\n",
      "None\n",
      "None\n",
      "None\n",
      "None\n",
      "None\n",
      "None\n",
      "None\n",
      "None\n",
      "None\n",
      "None\n",
      "None\n",
      "None\n",
      "None\n",
      "None\n",
      "None\n",
      "None\n",
      "None\n",
      "None\n",
      "None\n",
      "None\n",
      "None\n",
      "None\n",
      "None\n",
      "None\n",
      "None\n",
      "None\n",
      "None\n",
      "None\n",
      "None\n",
      "None\n",
      "None\n",
      "None\n",
      "None\n",
      "None\n",
      "None\n",
      "None\n",
      "None\n",
      "None\n",
      "None\n",
      "None\n",
      "None\n",
      "None\n",
      "None\n",
      "None\n",
      "None\n",
      "None\n",
      "None\n",
      "None\n",
      "None\n",
      "None\n",
      "None\n",
      "None\n",
      "None\n",
      "None\n",
      "None\n",
      "None\n",
      "None\n",
      "None\n",
      "None\n",
      "None\n",
      "None\n",
      "None\n",
      "None\n",
      "None\n",
      "None\n",
      "None\n",
      "None\n",
      "None\n",
      "None\n",
      "None\n",
      "None\n",
      "None\n",
      "None\n",
      "None\n",
      "None\n",
      "None\n",
      "None\n",
      "None\n",
      "None\n",
      "None\n",
      "None\n",
      "None\n",
      "None\n",
      "None\n",
      "None\n",
      "None\n",
      "None\n",
      "None\n",
      "None\n",
      "None\n",
      "None\n",
      "None\n",
      "None\n",
      "None\n",
      "None\n",
      "None\n",
      "None\n",
      "None\n",
      "None\n",
      "None\n",
      "None\n",
      "None\n",
      "None\n",
      "None\n"
     ]
    }
   ],
   "source": [
    "url='https://www.youtube.com/watch?v=s0dMTAQM4cw'\n",
    "            \n",
    "commentscrap(url)"
   ]
  },
  {
   "cell_type": "code",
   "execution_count": 5,
   "id": "a46b701c",
   "metadata": {},
   "outputs": [
    {
     "data": {
      "text/html": [
       "<div>\n",
       "<style scoped>\n",
       "    .dataframe tbody tr th:only-of-type {\n",
       "        vertical-align: middle;\n",
       "    }\n",
       "\n",
       "    .dataframe tbody tr th {\n",
       "        vertical-align: top;\n",
       "    }\n",
       "\n",
       "    .dataframe thead th {\n",
       "        text-align: right;\n",
       "    }\n",
       "</style>\n",
       "<table border=\"1\" class=\"dataframe\">\n",
       "  <thead>\n",
       "    <tr style=\"text-align: right;\">\n",
       "      <th></th>\n",
       "      <th>comment</th>\n",
       "    </tr>\n",
       "  </thead>\n",
       "  <tbody>\n",
       "    <tr>\n",
       "      <th>0</th>\n",
       "      <td>It’s just interesting seeing how people who ch...</td>\n",
       "    </tr>\n",
       "    <tr>\n",
       "      <th>1</th>\n",
       "      <td>It's great that algorithms can help people in ...</td>\n",
       "    </tr>\n",
       "    <tr>\n",
       "      <th>2</th>\n",
       "      <td>As I watched I kept returning to the scene of ...</td>\n",
       "    </tr>\n",
       "    <tr>\n",
       "      <th>3</th>\n",
       "      <td>I'm all for this sort of tech, but always wond...</td>\n",
       "    </tr>\n",
       "    <tr>\n",
       "      <th>4</th>\n",
       "      <td>“Your scientists were so preoccupied with whet...</td>\n",
       "    </tr>\n",
       "    <tr>\n",
       "      <th>...</th>\n",
       "      <td>...</td>\n",
       "    </tr>\n",
       "    <tr>\n",
       "      <th>175</th>\n",
       "      <td>Dabbling with A.I. is no different than playin...</td>\n",
       "    </tr>\n",
       "    <tr>\n",
       "      <th>176</th>\n",
       "      <td>An AI in the car that would be able to tell if...</td>\n",
       "    </tr>\n",
       "    <tr>\n",
       "      <th>177</th>\n",
       "      <td>GREAT WORK</td>\n",
       "    </tr>\n",
       "    <tr>\n",
       "      <th>178</th>\n",
       "      <td>If done right, we'll  all live like kings whil...</td>\n",
       "    </tr>\n",
       "    <tr>\n",
       "      <th>179</th>\n",
       "      <td>MindBlowing!!</td>\n",
       "    </tr>\n",
       "  </tbody>\n",
       "</table>\n",
       "<p>180 rows × 1 columns</p>\n",
       "</div>"
      ],
      "text/plain": [
       "                                               comment\n",
       "0    It’s just interesting seeing how people who ch...\n",
       "1    It's great that algorithms can help people in ...\n",
       "2    As I watched I kept returning to the scene of ...\n",
       "3    I'm all for this sort of tech, but always wond...\n",
       "4    “Your scientists were so preoccupied with whet...\n",
       "..                                                 ...\n",
       "175  Dabbling with A.I. is no different than playin...\n",
       "176  An AI in the car that would be able to tell if...\n",
       "177                                         GREAT WORK\n",
       "178  If done right, we'll  all live like kings whil...\n",
       "179                                      MindBlowing!!\n",
       "\n",
       "[180 rows x 1 columns]"
      ]
     },
     "execution_count": 5,
     "metadata": {},
     "output_type": "execute_result"
    }
   ],
   "source": [
    "import pandas as pd   \n",
    "df = pd.DataFrame(data, columns=['comment'])\n",
    "df"
   ]
  },
  {
   "cell_type": "code",
   "execution_count": 6,
   "id": "b746db43",
   "metadata": {},
   "outputs": [],
   "source": [
    "from sklearn.feature_extraction.text import CountVectorizer\n",
    "\n",
    "\n",
    "vectorizer=CountVectorizer()\n",
    "\n",
    "\n",
    "x_vectorize=vectorizer.fit_transform(df.comment).toarray() #to turn the sentences to numbers\n",
    "\n",
    "x_vectorize.shape               \n",
    "\n",
    "from sklearn.decomposition import PCA\n",
    "\n",
    "pca=PCA(n_components=2)\n",
    "\n",
    "x_pca=pca.fit_transform(x_vectorize) #reducing the dimentionality to 2 (2d panel)\n",
    "\n",
    "df['x']=x_pca[:,0]\n",
    "df['y']=x_pca[:,1]"
   ]
  },
  {
   "cell_type": "code",
   "execution_count": 9,
   "id": "027d46ac",
   "metadata": {},
   "outputs": [
    {
     "data": {
      "text/plain": [
       "<matplotlib.collections.PathCollection at 0x2d82eb75b80>"
      ]
     },
     "execution_count": 9,
     "metadata": {},
     "output_type": "execute_result"
    },
    {
     "data": {
      "image/png": "[encoded data removed]",
      "text/plain": [
       "<Figure size 432x288 with 1 Axes>"
      ]
     },
     "metadata": {
      "needs_background": "light"
     },
     "output_type": "display_data"
    }
   ],
   "source": [
    "import matplotlib.pyplot as plt\n",
    "plt.style.use('fast')\n",
    "plt.title('Comments visualized under artificial intelligence video (one cluster)')\n",
    "plt.xlabel(\"x\")\n",
    "plt.ylabel(\"y\")\n",
    "plt.scatter(x_pca[:,0],x_pca[:,1]); #visualizing all clusters on same panel"
   ]
  },
  {
   "cell_type": "code",
   "execution_count": 8,
   "id": "55b2afe5",
   "metadata": {},
   "outputs": [
    {
     "name": "stderr",
     "output_type": "stream",
     "text": [
      "C:\\Users\\maria\\anaconda3\\lib\\site-packages\\sklearn\\cluster\\_kmeans.py:1036: UserWarning: KMeans is known to have a memory leak on Windows with MKL, when there are less chunks than available threads. You can avoid it by setting the environment variable OMP_NUM_THREADS=1.\n",
      "  warnings.warn(\n"
     ]
    },
    {
     "data": {
      "text/plain": [
       "[<matplotlib.lines.Line2D at 0x2d82eb1f2b0>]"
      ]
     },
     "execution_count": 8,
     "metadata": {},
     "output_type": "execute_result"
    },
    {
     "data": {
      "image/png": "[encoded data removed]",
      "text/plain": [
       "<Figure size 432x288 with 1 Axes>"
      ]
     },
     "metadata": {
      "needs_background": "light"
     },
     "output_type": "display_data"
    }
   ],
   "source": [
    "from sklearn.cluster import KMeans\n",
    "from sklearn.preprocessing import MinMaxScaler\n",
    "\n",
    "sse = []\n",
    "k_rng = range(1,10)\n",
    "for k in k_rng:\n",
    "    km = KMeans(n_clusters=k)\n",
    "    km.fit(df[['x','y']])\n",
    "    sse.append(km.inertia_)\n",
    "\n",
    "plt.xlabel('K')\n",
    "plt.ylabel('Sum of squared error')\n",
    "plt.plot(k_rng,sse)"
   ]
  },
  {
   "cell_type": "code",
   "execution_count": 19,
   "id": "00670b68",
   "metadata": {},
   "outputs": [
    {
     "data": {
      "text/html": [
       "<div>\n",
       "<style scoped>\n",
       "    .dataframe tbody tr th:only-of-type {\n",
       "        vertical-align: middle;\n",
       "    }\n",
       "\n",
       "    .dataframe tbody tr th {\n",
       "        vertical-align: top;\n",
       "    }\n",
       "\n",
       "    .dataframe thead th {\n",
       "        text-align: right;\n",
       "    }\n",
       "</style>\n",
       "<table border=\"1\" class=\"dataframe\">\n",
       "  <thead>\n",
       "    <tr style=\"text-align: right;\">\n",
       "      <th></th>\n",
       "      <th>comment</th>\n",
       "      <th>x</th>\n",
       "      <th>y</th>\n",
       "      <th>cluster</th>\n",
       "    </tr>\n",
       "  </thead>\n",
       "  <tbody>\n",
       "    <tr>\n",
       "      <th>0</th>\n",
       "      <td>It’s just interesting seeing how people who ch...</td>\n",
       "      <td>1.372161</td>\n",
       "      <td>-0.334566</td>\n",
       "      <td>3</td>\n",
       "    </tr>\n",
       "    <tr>\n",
       "      <th>1</th>\n",
       "      <td>It's great that algorithms can help people in ...</td>\n",
       "      <td>0.827976</td>\n",
       "      <td>0.747642</td>\n",
       "      <td>0</td>\n",
       "    </tr>\n",
       "    <tr>\n",
       "      <th>2</th>\n",
       "      <td>As I watched I kept returning to the scene of ...</td>\n",
       "      <td>16.674448</td>\n",
       "      <td>-5.511044</td>\n",
       "      <td>1</td>\n",
       "    </tr>\n",
       "    <tr>\n",
       "      <th>3</th>\n",
       "      <td>I'm all for this sort of tech, but always wond...</td>\n",
       "      <td>3.385633</td>\n",
       "      <td>0.152170</td>\n",
       "      <td>3</td>\n",
       "    </tr>\n",
       "    <tr>\n",
       "      <th>4</th>\n",
       "      <td>“Your scientists were so preoccupied with whet...</td>\n",
       "      <td>-1.780217</td>\n",
       "      <td>-0.351982</td>\n",
       "      <td>0</td>\n",
       "    </tr>\n",
       "  </tbody>\n",
       "</table>\n",
       "</div>"
      ],
      "text/plain": [
       "                                             comment          x         y  \\\n",
       "0  It’s just interesting seeing how people who ch...   1.372161 -0.334566   \n",
       "1  It's great that algorithms can help people in ...   0.827976  0.747642   \n",
       "2  As I watched I kept returning to the scene of ...  16.674448 -5.511044   \n",
       "3  I'm all for this sort of tech, but always wond...   3.385633  0.152170   \n",
       "4  “Your scientists were so preoccupied with whet...  -1.780217 -0.351982   \n",
       "\n",
       "   cluster  \n",
       "0        3  \n",
       "1        0  \n",
       "2        1  \n",
       "3        3  \n",
       "4        0  "
      ]
     },
     "execution_count": 19,
     "metadata": {},
     "output_type": "execute_result"
    }
   ],
   "source": [
    "km = KMeans(n_clusters=4) #elbow looks like it can be at 2, + also same # of opinions most people can have on it (for/against it)\n",
    "y_predicted = km.fit_predict(df[['x','y']])\n",
    "y_predicted\n",
    "\n",
    "df['cluster']=y_predicted\n",
    "df.head()"
   ]
  },
  {
   "cell_type": "code",
   "execution_count": 20,
   "id": "65e634bc",
   "metadata": {},
   "outputs": [
    {
     "data": {
      "text/plain": [
       "array([[-1.1694006 ,  0.20858982],\n",
       "       [13.78714638, -3.66265237],\n",
       "       [23.92877267, 15.04650671],\n",
       "       [ 3.31516179, -1.10923572]])"
      ]
     },
     "execution_count": 20,
     "metadata": {},
     "output_type": "execute_result"
    }
   ],
   "source": [
    "km.cluster_centers_"
   ]
  },
  {
   "cell_type": "code",
   "execution_count": 21,
   "id": "6bb37a21",
   "metadata": {},
   "outputs": [
    {
     "data": {
      "text/plain": [
       "<matplotlib.legend.Legend at 0x2d82fd43850>"
      ]
     },
     "execution_count": 21,
     "metadata": {},
     "output_type": "execute_result"
    },
    {
     "data": {
      "image/png": "[encoded data removed]",
      "text/plain": [
       "<Figure size 432x288 with 1 Axes>"
      ]
     },
     "metadata": {
      "needs_background": "light"
     },
     "output_type": "display_data"
    }
   ],
   "source": [
    "df1 = df[df.cluster==0]\n",
    "df2 = df[df.cluster==1]\n",
    "df3 = df[df.cluster==2]\n",
    "df4 = df[df.cluster==3]\n",
    "plt.scatter(df1.x,df1.y,color='green')\n",
    "plt.scatter(df2.x,df2.y,color='red')\n",
    "plt.scatter(df3.x,df3.y,color='black')\n",
    "plt.scatter(df4.x,df4.y,color='yellow')\n",
    "plt.scatter(km.cluster_centers_[:,0],km.cluster_centers_[:,1],color='purple',marker='*',label='centroid')\n",
    "plt.legend()"
   ]
  },
  {
   "cell_type": "code",
   "execution_count": 22,
   "id": "6295aaf8",
   "metadata": {},
   "outputs": [
    {
     "data": {
      "text/html": [
       "<div>\n",
       "<style scoped>\n",
       "    .dataframe tbody tr th:only-of-type {\n",
       "        vertical-align: middle;\n",
       "    }\n",
       "\n",
       "    .dataframe tbody tr th {\n",
       "        vertical-align: top;\n",
       "    }\n",
       "\n",
       "    .dataframe thead th {\n",
       "        text-align: right;\n",
       "    }\n",
       "</style>\n",
       "<table border=\"1\" class=\"dataframe\">\n",
       "  <thead>\n",
       "    <tr style=\"text-align: right;\">\n",
       "      <th></th>\n",
       "      <th>comment</th>\n",
       "      <th>x</th>\n",
       "      <th>y</th>\n",
       "      <th>cluster</th>\n",
       "    </tr>\n",
       "  </thead>\n",
       "  <tbody>\n",
       "    <tr>\n",
       "      <th>1</th>\n",
       "      <td>It's great that algorithms can help people in ...</td>\n",
       "      <td>0.827976</td>\n",
       "      <td>0.747642</td>\n",
       "      <td>0</td>\n",
       "    </tr>\n",
       "    <tr>\n",
       "      <th>4</th>\n",
       "      <td>“Your scientists were so preoccupied with whet...</td>\n",
       "      <td>-1.780217</td>\n",
       "      <td>-0.351982</td>\n",
       "      <td>0</td>\n",
       "    </tr>\n",
       "    <tr>\n",
       "      <th>5</th>\n",
       "      <td>Everything needs energy to drive its movement....</td>\n",
       "      <td>-1.006941</td>\n",
       "      <td>1.102835</td>\n",
       "      <td>0</td>\n",
       "    </tr>\n",
       "    <tr>\n",
       "      <th>6</th>\n",
       "      <td>“Once men turned their thinking over to machin...</td>\n",
       "      <td>-0.515988</td>\n",
       "      <td>0.228694</td>\n",
       "      <td>0</td>\n",
       "    </tr>\n",
       "    <tr>\n",
       "      <th>9</th>\n",
       "      <td>As always, very enlightening. The design resea...</td>\n",
       "      <td>0.182375</td>\n",
       "      <td>-0.772246</td>\n",
       "      <td>0</td>\n",
       "    </tr>\n",
       "    <tr>\n",
       "      <th>...</th>\n",
       "      <td>...</td>\n",
       "      <td>...</td>\n",
       "      <td>...</td>\n",
       "      <td>...</td>\n",
       "    </tr>\n",
       "    <tr>\n",
       "      <th>175</th>\n",
       "      <td>Dabbling with A.I. is no different than playin...</td>\n",
       "      <td>-1.032172</td>\n",
       "      <td>1.070674</td>\n",
       "      <td>0</td>\n",
       "    </tr>\n",
       "    <tr>\n",
       "      <th>176</th>\n",
       "      <td>An AI in the car that would be able to tell if...</td>\n",
       "      <td>0.599383</td>\n",
       "      <td>-1.169238</td>\n",
       "      <td>0</td>\n",
       "    </tr>\n",
       "    <tr>\n",
       "      <th>177</th>\n",
       "      <td>GREAT WORK</td>\n",
       "      <td>-2.629302</td>\n",
       "      <td>0.053685</td>\n",
       "      <td>0</td>\n",
       "    </tr>\n",
       "    <tr>\n",
       "      <th>178</th>\n",
       "      <td>If done right, we'll  all live like kings whil...</td>\n",
       "      <td>-2.200164</td>\n",
       "      <td>-0.013600</td>\n",
       "      <td>0</td>\n",
       "    </tr>\n",
       "    <tr>\n",
       "      <th>179</th>\n",
       "      <td>MindBlowing!!</td>\n",
       "      <td>-2.619256</td>\n",
       "      <td>0.051569</td>\n",
       "      <td>0</td>\n",
       "    </tr>\n",
       "  </tbody>\n",
       "</table>\n",
       "<p>147 rows × 4 columns</p>\n",
       "</div>"
      ],
      "text/plain": [
       "                                               comment         x         y  \\\n",
       "1    It's great that algorithms can help people in ...  0.827976  0.747642   \n",
       "4    “Your scientists were so preoccupied with whet... -1.780217 -0.351982   \n",
       "5    Everything needs energy to drive its movement.... -1.006941  1.102835   \n",
       "6    “Once men turned their thinking over to machin... -0.515988  0.228694   \n",
       "9    As always, very enlightening. The design resea...  0.182375 -0.772246   \n",
       "..                                                 ...       ...       ...   \n",
       "175  Dabbling with A.I. is no different than playin... -1.032172  1.070674   \n",
       "176  An AI in the car that would be able to tell if...  0.599383 -1.169238   \n",
       "177                                         GREAT WORK -2.629302  0.053685   \n",
       "178  If done right, we'll  all live like kings whil... -2.200164 -0.013600   \n",
       "179                                      MindBlowing!! -2.619256  0.051569   \n",
       "\n",
       "     cluster  \n",
       "1          0  \n",
       "4          0  \n",
       "5          0  \n",
       "6          0  \n",
       "9          0  \n",
       "..       ...  \n",
       "175        0  \n",
       "176        0  \n",
       "177        0  \n",
       "178        0  \n",
       "179        0  \n",
       "\n",
       "[147 rows x 4 columns]"
      ]
     },
     "execution_count": 22,
     "metadata": {},
     "output_type": "execute_result"
    }
   ],
   "source": [
    "df[df['cluster']==0]"
   ]
  },
  {
   "cell_type": "code",
   "execution_count": 23,
   "id": "4bae97d4",
   "metadata": {},
   "outputs": [
    {
     "data": {
      "text/html": [
       "<div>\n",
       "<style scoped>\n",
       "    .dataframe tbody tr th:only-of-type {\n",
       "        vertical-align: middle;\n",
       "    }\n",
       "\n",
       "    .dataframe tbody tr th {\n",
       "        vertical-align: top;\n",
       "    }\n",
       "\n",
       "    .dataframe thead th {\n",
       "        text-align: right;\n",
       "    }\n",
       "</style>\n",
       "<table border=\"1\" class=\"dataframe\">\n",
       "  <thead>\n",
       "    <tr style=\"text-align: right;\">\n",
       "      <th></th>\n",
       "      <th>comment</th>\n",
       "      <th>x</th>\n",
       "      <th>y</th>\n",
       "      <th>cluster</th>\n",
       "    </tr>\n",
       "  </thead>\n",
       "  <tbody>\n",
       "    <tr>\n",
       "      <th>2</th>\n",
       "      <td>As I watched I kept returning to the scene of ...</td>\n",
       "      <td>16.674448</td>\n",
       "      <td>-5.511044</td>\n",
       "      <td>1</td>\n",
       "    </tr>\n",
       "    <tr>\n",
       "      <th>19</th>\n",
       "      <td>Don't forget that Germans are being told, not ...</td>\n",
       "      <td>11.603945</td>\n",
       "      <td>3.137088</td>\n",
       "      <td>1</td>\n",
       "    </tr>\n",
       "    <tr>\n",
       "      <th>122</th>\n",
       "      <td>There are infinite reasons we would choose whi...</td>\n",
       "      <td>14.558592</td>\n",
       "      <td>-9.523035</td>\n",
       "      <td>1</td>\n",
       "    </tr>\n",
       "    <tr>\n",
       "      <th>166</th>\n",
       "      <td>Predictability is unpredictable. One change in...</td>\n",
       "      <td>12.311600</td>\n",
       "      <td>-2.753618</td>\n",
       "      <td>1</td>\n",
       "    </tr>\n",
       "  </tbody>\n",
       "</table>\n",
       "</div>"
      ],
      "text/plain": [
       "                                               comment          x         y  \\\n",
       "2    As I watched I kept returning to the scene of ...  16.674448 -5.511044   \n",
       "19   Don't forget that Germans are being told, not ...  11.603945  3.137088   \n",
       "122  There are infinite reasons we would choose whi...  14.558592 -9.523035   \n",
       "166  Predictability is unpredictable. One change in...  12.311600 -2.753618   \n",
       "\n",
       "     cluster  \n",
       "2          1  \n",
       "19         1  \n",
       "122        1  \n",
       "166        1  "
      ]
     },
     "execution_count": 23,
     "metadata": {},
     "output_type": "execute_result"
    }
   ],
   "source": [
    "df[df['cluster']==1]"
   ]
  },
  {
   "cell_type": "code",
   "execution_count": 24,
   "id": "11801581",
   "metadata": {},
   "outputs": [
    {
     "data": {
      "text/html": [
       "<div>\n",
       "<style scoped>\n",
       "    .dataframe tbody tr th:only-of-type {\n",
       "        vertical-align: middle;\n",
       "    }\n",
       "\n",
       "    .dataframe tbody tr th {\n",
       "        vertical-align: top;\n",
       "    }\n",
       "\n",
       "    .dataframe thead th {\n",
       "        text-align: right;\n",
       "    }\n",
       "</style>\n",
       "<table border=\"1\" class=\"dataframe\">\n",
       "  <thead>\n",
       "    <tr style=\"text-align: right;\">\n",
       "      <th></th>\n",
       "      <th>comment</th>\n",
       "      <th>x</th>\n",
       "      <th>y</th>\n",
       "      <th>cluster</th>\n",
       "    </tr>\n",
       "  </thead>\n",
       "  <tbody>\n",
       "    <tr>\n",
       "      <th>78</th>\n",
       "      <td>In some countries the majority of citizens sti...</td>\n",
       "      <td>23.928773</td>\n",
       "      <td>15.046507</td>\n",
       "      <td>2</td>\n",
       "    </tr>\n",
       "  </tbody>\n",
       "</table>\n",
       "</div>"
      ],
      "text/plain": [
       "                                              comment          x          y  \\\n",
       "78  In some countries the majority of citizens sti...  23.928773  15.046507   \n",
       "\n",
       "    cluster  \n",
       "78        2  "
      ]
     },
     "execution_count": 24,
     "metadata": {},
     "output_type": "execute_result"
    }
   ],
   "source": [
    "df[df['cluster']==2]"
   ]
  },
  {
   "cell_type": "code",
   "execution_count": 25,
   "id": "3673428b",
   "metadata": {},
   "outputs": [
    {
     "name": "stderr",
     "output_type": "stream",
     "text": [
      "C:\\Users\\maria\\anaconda3\\lib\\site-packages\\sklearn\\cluster\\_kmeans.py:1036: UserWarning: KMeans is known to have a memory leak on Windows with MKL, when there are less chunks than available threads. You can avoid it by setting the environment variable OMP_NUM_THREADS=1.\n",
      "  warnings.warn(\n"
     ]
    },
    {
     "data": {
      "text/plain": [
       "[<matplotlib.lines.Line2D at 0x2d82fdb1bb0>]"
      ]
     },
     "execution_count": 25,
     "metadata": {},
     "output_type": "execute_result"
    },
    {
     "data": {
      "image/png": "[encoded data removed]",
      "text/plain": [
       "<Figure size 432x288 with 1 Axes>"
      ]
     },
     "metadata": {
      "needs_background": "light"
     },
     "output_type": "display_data"
    }
   ],
   "source": [
    "sse = []\n",
    "k_rng = range(1,10)\n",
    "for k in k_rng:\n",
    "    km = KMeans(n_clusters=k)\n",
    "    km.fit(df1[['x','y']])\n",
    "    sse.append(km.inertia_)\n",
    "plt.xlabel('K')\n",
    "plt.ylabel('Sum of squared error')\n",
    "plt.plot(k_rng,sse)\n"
   ]
  },
  {
   "cell_type": "code",
   "execution_count": 26,
   "id": "c980ff2b",
   "metadata": {},
   "outputs": [
    {
     "data": {
      "text/plain": [
       "array([0, 1, 0, 0, 0, 1, 1, 1, 0, 0, 0, 0, 1, 1, 0, 0, 1, 1, 0, 1, 0, 1,\n",
       "       1, 0, 1, 0, 1, 1, 1, 0, 1, 0, 0, 0, 0, 1, 0, 1, 0, 1, 0, 1, 1, 1,\n",
       "       1, 1, 0, 1, 1, 1, 1, 0, 0, 0, 0, 1, 0, 1, 0, 1, 1, 0, 0, 1, 1, 1,\n",
       "       1, 1, 1, 0, 0, 1, 1, 0, 1, 1, 1, 0, 1, 1, 1, 1, 1, 1, 0, 0, 1, 0,\n",
       "       0, 1, 0, 0, 0, 1, 0, 0, 1, 1, 1, 1, 1, 1, 0, 0, 0, 0, 0, 1, 0, 0,\n",
       "       1, 0, 0, 1, 0, 0, 1, 1, 1, 1, 0, 1, 0, 1, 1, 0, 1, 1, 0, 0, 1, 0,\n",
       "       1, 0, 1, 1, 1, 1, 1, 0, 0, 1, 0, 0, 1, 1, 1])"
      ]
     },
     "execution_count": 26,
     "metadata": {},
     "output_type": "execute_result"
    }
   ],
   "source": [
    "km = KMeans(n_clusters=2)\n",
    "y_predicted = km.fit_predict(df1[['x','y']])\n",
    "y_predicted"
   ]
  },
  {
   "cell_type": "code",
   "execution_count": 27,
   "id": "2295f521",
   "metadata": {},
   "outputs": [
    {
     "name": "stderr",
     "output_type": "stream",
     "text": [
      "C:\\Users\\maria\\AppData\\Local\\Temp\\ipykernel_9292\\178631036.py:1: SettingWithCopyWarning: \n",
      "A value is trying to be set on a copy of a slice from a DataFrame.\n",
      "Try using .loc[row_indexer,col_indexer] = value instead\n",
      "\n",
      "See the caveats in the documentation: https://pandas.pydata.org/pandas-docs/stable/user_guide/indexing.html#returning-a-view-versus-a-copy\n",
      "  df1['subcluster1']=y_predicted\n"
     ]
    },
    {
     "data": {
      "text/html": [
       "<div>\n",
       "<style scoped>\n",
       "    .dataframe tbody tr th:only-of-type {\n",
       "        vertical-align: middle;\n",
       "    }\n",
       "\n",
       "    .dataframe tbody tr th {\n",
       "        vertical-align: top;\n",
       "    }\n",
       "\n",
       "    .dataframe thead th {\n",
       "        text-align: right;\n",
       "    }\n",
       "</style>\n",
       "<table border=\"1\" class=\"dataframe\">\n",
       "  <thead>\n",
       "    <tr style=\"text-align: right;\">\n",
       "      <th></th>\n",
       "      <th>comment</th>\n",
       "      <th>x</th>\n",
       "      <th>y</th>\n",
       "      <th>cluster</th>\n",
       "      <th>subcluster1</th>\n",
       "    </tr>\n",
       "  </thead>\n",
       "  <tbody>\n",
       "    <tr>\n",
       "      <th>1</th>\n",
       "      <td>It's great that algorithms can help people in ...</td>\n",
       "      <td>0.827976</td>\n",
       "      <td>0.747642</td>\n",
       "      <td>0</td>\n",
       "      <td>0</td>\n",
       "    </tr>\n",
       "    <tr>\n",
       "      <th>4</th>\n",
       "      <td>“Your scientists were so preoccupied with whet...</td>\n",
       "      <td>-1.780217</td>\n",
       "      <td>-0.351982</td>\n",
       "      <td>0</td>\n",
       "      <td>1</td>\n",
       "    </tr>\n",
       "    <tr>\n",
       "      <th>5</th>\n",
       "      <td>Everything needs energy to drive its movement....</td>\n",
       "      <td>-1.006941</td>\n",
       "      <td>1.102835</td>\n",
       "      <td>0</td>\n",
       "      <td>0</td>\n",
       "    </tr>\n",
       "    <tr>\n",
       "      <th>6</th>\n",
       "      <td>“Once men turned their thinking over to machin...</td>\n",
       "      <td>-0.515988</td>\n",
       "      <td>0.228694</td>\n",
       "      <td>0</td>\n",
       "      <td>0</td>\n",
       "    </tr>\n",
       "    <tr>\n",
       "      <th>9</th>\n",
       "      <td>As always, very enlightening. The design resea...</td>\n",
       "      <td>0.182375</td>\n",
       "      <td>-0.772246</td>\n",
       "      <td>0</td>\n",
       "      <td>0</td>\n",
       "    </tr>\n",
       "  </tbody>\n",
       "</table>\n",
       "</div>"
      ],
      "text/plain": [
       "                                             comment         x         y  \\\n",
       "1  It's great that algorithms can help people in ...  0.827976  0.747642   \n",
       "4  “Your scientists were so preoccupied with whet... -1.780217 -0.351982   \n",
       "5  Everything needs energy to drive its movement.... -1.006941  1.102835   \n",
       "6  “Once men turned their thinking over to machin... -0.515988  0.228694   \n",
       "9  As always, very enlightening. The design resea...  0.182375 -0.772246   \n",
       "\n",
       "   cluster  subcluster1  \n",
       "1        0            0  \n",
       "4        0            1  \n",
       "5        0            0  \n",
       "6        0            0  \n",
       "9        0            0  "
      ]
     },
     "execution_count": 27,
     "metadata": {},
     "output_type": "execute_result"
    }
   ],
   "source": [
    "df1['subcluster1']=y_predicted\n",
    "df1.head()"
   ]
  },
  {
   "cell_type": "code",
   "execution_count": 28,
   "id": "43cd979e",
   "metadata": {},
   "outputs": [
    {
     "data": {
      "text/plain": [
       "array([[-0.18831104,  0.33135636],\n",
       "       [-1.96880691,  0.10855782]])"
      ]
     },
     "execution_count": 28,
     "metadata": {},
     "output_type": "execute_result"
    }
   ],
   "source": [
    "km.cluster_centers_"
   ]
  },
  {
   "cell_type": "code",
   "execution_count": 29,
   "id": "dd302f1e",
   "metadata": {},
   "outputs": [
    {
     "data": {
      "text/plain": [
       "<matplotlib.legend.Legend at 0x2d83018e9d0>"
      ]
     },
     "execution_count": 29,
     "metadata": {},
     "output_type": "execute_result"
    },
    {
     "data": {
      "image/png": "[encoded data removed]",
      "text/plain": [
       "<Figure size 432x288 with 1 Axes>"
      ]
     },
     "metadata": {
      "needs_background": "light"
     },
     "output_type": "display_data"
    }
   ],
   "source": [
    "sub1 = df1[df1.subcluster1==0]\n",
    "sub2 = df1[df1.subcluster1==1]\n",
    "#sub3 = df1[df1.subcluster1==2]\n",
    "#df4 = df[df.cluster==3]\n",
    "plt.scatter(sub1.x,sub1.y,color='green')\n",
    "plt.scatter(sub2.x,sub2.y,color='red')\n",
    "#plt.scatter(sub3.x,sub3.y,color='black')\n",
    "plt.scatter(km.cluster_centers_[:,0],km.cluster_centers_[:,1],color='purple',marker='*',label='centroid')\n",
    "plt.legend()"
   ]
  },
  {
   "cell_type": "code",
   "execution_count": 30,
   "id": "30a59003",
   "metadata": {},
   "outputs": [
    {
     "data": {
      "text/html": [
       "<div>\n",
       "<style scoped>\n",
       "    .dataframe tbody tr th:only-of-type {\n",
       "        vertical-align: middle;\n",
       "    }\n",
       "\n",
       "    .dataframe tbody tr th {\n",
       "        vertical-align: top;\n",
       "    }\n",
       "\n",
       "    .dataframe thead th {\n",
       "        text-align: right;\n",
       "    }\n",
       "</style>\n",
       "<table border=\"1\" class=\"dataframe\">\n",
       "  <thead>\n",
       "    <tr style=\"text-align: right;\">\n",
       "      <th></th>\n",
       "      <th>comment</th>\n",
       "      <th>x</th>\n",
       "      <th>y</th>\n",
       "      <th>cluster</th>\n",
       "      <th>subcluster1</th>\n",
       "    </tr>\n",
       "  </thead>\n",
       "  <tbody>\n",
       "    <tr>\n",
       "      <th>164</th>\n",
       "      <td>I would want  the algorithm to calculate who i...</td>\n",
       "      <td>-0.586371</td>\n",
       "      <td>0.516189</td>\n",
       "      <td>0</td>\n",
       "      <td>0</td>\n",
       "    </tr>\n",
       "    <tr>\n",
       "      <th>172</th>\n",
       "      <td>AI is a tool like any other. It depends how an...</td>\n",
       "      <td>-0.102230</td>\n",
       "      <td>2.159394</td>\n",
       "      <td>0</td>\n",
       "      <td>0</td>\n",
       "    </tr>\n",
       "    <tr>\n",
       "      <th>173</th>\n",
       "      <td>I enjoy that video .  l  also would like to sa...</td>\n",
       "      <td>-0.797800</td>\n",
       "      <td>0.803975</td>\n",
       "      <td>0</td>\n",
       "      <td>0</td>\n",
       "    </tr>\n",
       "    <tr>\n",
       "      <th>175</th>\n",
       "      <td>Dabbling with A.I. is no different than playin...</td>\n",
       "      <td>-1.032172</td>\n",
       "      <td>1.070674</td>\n",
       "      <td>0</td>\n",
       "      <td>0</td>\n",
       "    </tr>\n",
       "    <tr>\n",
       "      <th>176</th>\n",
       "      <td>An AI in the car that would be able to tell if...</td>\n",
       "      <td>0.599383</td>\n",
       "      <td>-1.169238</td>\n",
       "      <td>0</td>\n",
       "      <td>0</td>\n",
       "    </tr>\n",
       "  </tbody>\n",
       "</table>\n",
       "</div>"
      ],
      "text/plain": [
       "                                               comment         x         y  \\\n",
       "164  I would want  the algorithm to calculate who i... -0.586371  0.516189   \n",
       "172  AI is a tool like any other. It depends how an... -0.102230  2.159394   \n",
       "173  I enjoy that video .  l  also would like to sa... -0.797800  0.803975   \n",
       "175  Dabbling with A.I. is no different than playin... -1.032172  1.070674   \n",
       "176  An AI in the car that would be able to tell if...  0.599383 -1.169238   \n",
       "\n",
       "     cluster  subcluster1  \n",
       "164        0            0  \n",
       "172        0            0  \n",
       "173        0            0  \n",
       "175        0            0  \n",
       "176        0            0  "
      ]
     },
     "execution_count": 30,
     "metadata": {},
     "output_type": "execute_result"
    }
   ],
   "source": [
    "dfle=df1[df1['subcluster1']==0]\n",
    "dfle.tail()\n",
    "#ppl seem to be commenting on the ppl that are in the video and their appreciation of the video \n"
   ]
  },
  {
   "cell_type": "code",
   "execution_count": 31,
   "id": "6a80a2b5",
   "metadata": {},
   "outputs": [
    {
     "name": "stdout",
     "output_type": "stream",
     "text": [
      "It's great that algorithms can help people in different spheres of life, but robots are not free-thinking creatures, so they are not only useful for us, but also dangerous, because algorithms do not always lead to the right decisions and they can also limit our personal freedom of action.\n",
      "Everything needs energy to drive its movement...\n",
      "\n",
      "Whether it is natural intelligence or artificial intelligence, whoever can invent and master energy is in charge.\n",
      "“Once men turned their thinking over to machines in the hope that this would set them free. But that only permitted other men with machines to enslave them.”\n",
      "\n",
      "― Frank Herbert, Dune\n",
      "As always, very enlightening. The design researchers comments on 996 culture are eyebrow-raising. People don't do this because they want to. They don't have a choice. One wonders if she's in touch with how the population truly feels at this point.\n",
      "26:45 \"the microphone isn't listening until it hears hey Google\"\n",
      "\n",
      "For a scientist, the fact that he's able to say that with a straight face is hilarious\n",
      "I would want  the algorithm to calculate who is more likely to die, if it can't decide  it should randomize\n",
      "AI is a tool like any other. It depends how and who is using it, will it be good or bad. Hammer is great tool to build a house but it can also kill.\n",
      "I enjoy that video .  l  also would like to say that I didn't know that there were  that many camera in public places ! I will not be going to  China any time soon . Thanks\n",
      "Dabbling with A.I. is no different than playing with fire. While there may be some pros to it, it only takes one con to catastrophically destroy everything.\n"
     ]
    }
   ],
   "source": [
    "print(df.iloc[(1,0)])\n",
    "print(df.iloc[(5,0)])\n",
    "print(df.iloc[(6,0)])\n",
    "print(df.iloc[(9,0)])\n",
    "print(df.iloc[(14,0)])\n",
    "print(df.iloc[(164,0)])\n",
    "print(df.iloc[(172,0)])\n",
    "print(df.iloc[(173,0)])\n",
    "print(df.iloc[(175,0)])\n",
    "#from neutral to more negative side ppl seem to recognize that it it could potentially be useful but also dangerous at the wrong hands\n"
   ]
  },
  {
   "cell_type": "code",
   "execution_count": 32,
   "id": "81124b9e",
   "metadata": {},
   "outputs": [
    {
     "data": {
      "text/html": [
       "<div>\n",
       "<style scoped>\n",
       "    .dataframe tbody tr th:only-of-type {\n",
       "        vertical-align: middle;\n",
       "    }\n",
       "\n",
       "    .dataframe tbody tr th {\n",
       "        vertical-align: top;\n",
       "    }\n",
       "\n",
       "    .dataframe thead th {\n",
       "        text-align: right;\n",
       "    }\n",
       "</style>\n",
       "<table border=\"1\" class=\"dataframe\">\n",
       "  <thead>\n",
       "    <tr style=\"text-align: right;\">\n",
       "      <th></th>\n",
       "      <th>comment</th>\n",
       "      <th>x</th>\n",
       "      <th>y</th>\n",
       "      <th>cluster</th>\n",
       "      <th>subcluster1</th>\n",
       "    </tr>\n",
       "  </thead>\n",
       "  <tbody>\n",
       "    <tr>\n",
       "      <th>171</th>\n",
       "      <td>AI is cool—but very costly, and not just with ...</td>\n",
       "      <td>-1.906356</td>\n",
       "      <td>0.514986</td>\n",
       "      <td>0</td>\n",
       "      <td>1</td>\n",
       "    </tr>\n",
       "    <tr>\n",
       "      <th>174</th>\n",
       "      <td>Are these also available with german speak and...</td>\n",
       "      <td>-1.955097</td>\n",
       "      <td>0.317792</td>\n",
       "      <td>0</td>\n",
       "      <td>1</td>\n",
       "    </tr>\n",
       "    <tr>\n",
       "      <th>177</th>\n",
       "      <td>GREAT WORK</td>\n",
       "      <td>-2.629302</td>\n",
       "      <td>0.053685</td>\n",
       "      <td>0</td>\n",
       "      <td>1</td>\n",
       "    </tr>\n",
       "    <tr>\n",
       "      <th>178</th>\n",
       "      <td>If done right, we'll  all live like kings whil...</td>\n",
       "      <td>-2.200164</td>\n",
       "      <td>-0.013600</td>\n",
       "      <td>0</td>\n",
       "      <td>1</td>\n",
       "    </tr>\n",
       "    <tr>\n",
       "      <th>179</th>\n",
       "      <td>MindBlowing!!</td>\n",
       "      <td>-2.619256</td>\n",
       "      <td>0.051569</td>\n",
       "      <td>0</td>\n",
       "      <td>1</td>\n",
       "    </tr>\n",
       "  </tbody>\n",
       "</table>\n",
       "</div>"
      ],
      "text/plain": [
       "                                               comment         x         y  \\\n",
       "171  AI is cool—but very costly, and not just with ... -1.906356  0.514986   \n",
       "174  Are these also available with german speak and... -1.955097  0.317792   \n",
       "177                                         GREAT WORK -2.629302  0.053685   \n",
       "178  If done right, we'll  all live like kings whil... -2.200164 -0.013600   \n",
       "179                                      MindBlowing!! -2.619256  0.051569   \n",
       "\n",
       "     cluster  subcluster1  \n",
       "171        0            1  \n",
       "174        0            1  \n",
       "177        0            1  \n",
       "178        0            1  \n",
       "179        0            1  "
      ]
     },
     "execution_count": 32,
     "metadata": {},
     "output_type": "execute_result"
    }
   ],
   "source": [
    "\n",
    "\n",
    "\n",
    "dff=df1[df1['subcluster1']==1]\n",
    "dff.tail()\n",
    "\n"
   ]
  },
  {
   "cell_type": "code",
   "execution_count": 33,
   "id": "157851ec",
   "metadata": {},
   "outputs": [
    {
     "name": "stdout",
     "output_type": "stream",
     "text": [
      "“Your scientists were so preoccupied with whether they could, they didn’t stop to think if they should.” - Dr. Ian Malcolm\n",
      "Honesty is hard to find. In business, nearly impossible. Great interview.\n",
      "This was great, keep up the great programs you make!\n",
      "One of the most thought-provoking documentaries on AI. More questions raised than answered.\n",
      "Very interesting and meaningful. Thank you very much for your entire team. \n",
      "AI is cool—but very costly, and not just with money\n",
      "Are these also available with german speak and english subtitles? Would be great for learning German:)\n",
      "GREAT WORK\n",
      "MindBlowing!!\n"
     ]
    }
   ],
   "source": [
    "print(df.iloc[(4,0)])\n",
    "print(df.iloc[(10,0)])\n",
    "print(df.iloc[(11,0)])\n",
    "print(df.iloc[(12,0)])\n",
    "print(df.iloc[(20,0)])\n",
    "print(df.iloc[(171,0)])\n",
    "print(df.iloc[(174,0)])\n",
    "print(df.iloc[(177,0)])\n",
    "print(df.iloc[(179,0)])\n",
    "\n",
    "#negative ppl talking about concrete uses for it  also some quotes and comenting on the documentary itself \n"
   ]
  },
  {
   "cell_type": "code",
   "execution_count": null,
   "id": "82004018",
   "metadata": {},
   "outputs": [],
   "source": []
  },
  {
   "cell_type": "code",
   "execution_count": null,
   "id": "f9587471",
   "metadata": {},
   "outputs": [],
   "source": []
  }
 ],
 "metadata": {
  "kernelspec": {
   "display_name": "Python 3.10.4 64-bit",
   "language": "python",
   "name": "python3"
  },
  "language_info": {
   "codemirror_mode": {
    "name": "ipython",
    "version": 3
   },
   "file_extension": ".py",
   "mimetype": "text/x-python",
   "name": "python",
   "nbconvert_exporter": "python",
   "pygments_lexer": "ipython3",
   "version": "3.10.4"
  },
  "vscode": {
   "interpreter": {
    "hash": "aee8b7b246df8f9039afb4144a1f6fd8d2ca17a180786b69acc140d282b71a49"
   }
  }
 },
 "nbformat": 4,
 "nbformat_minor": 5
}
